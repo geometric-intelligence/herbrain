{
 "cells": [
  {
   "cell_type": "code",
   "execution_count": 1,
   "id": "0d562cbc",
   "metadata": {},
   "outputs": [
    {
     "name": "stderr",
     "output_type": "stream",
     "text": [
      "/home/emanuel/anaconda3/envs/varidist/lib/python3.7/site-packages/pykeops/torch/kernel_product/__init__.py:6: DeprecationWarning: [pyKeOps]: the kernel_product syntax is deprecated. Please consider using the LazyTensor helper instead.\n",
      "  DeprecationWarning,\n"
     ]
    }
   ],
   "source": [
    "import sys\n",
    "\n",
    "sys.path.append(\"..\")\n",
    "import SRNF_match\n",
    "import H2_partial_match as gm\n",
    "import utils.input_output as input_output"
   ]
  },
  {
   "cell_type": "code",
   "execution_count": 2,
   "id": "a17f0c3c",
   "metadata": {},
   "outputs": [
    {
     "name": "stdout",
     "output_type": "stream",
     "text": [
      "(3360, 3)\n"
     ]
    },
    {
     "name": "stderr",
     "output_type": "stream",
     "text": [
      "/home/emanuel/anaconda3/envs/varidist/lib/python3.7/site-packages/ipykernel/ipkernel.py:287: DeprecationWarning: `should_run_async` will not call `transform_cell` automatically in the future. Please pass the result to `transformed_cell` argument and any exception that happen during thetransform in `preprocessing_exc_tuple` in IPython 7.17 and above.\n",
      "  and should_run_async(code)\n"
     ]
    }
   ],
   "source": [
    "N = 2\n",
    "[VS, FS, FunS] = input_output.loadData(\"TestData/genus/sphere.ply\")\n",
    "VS = VS / 100\n",
    "\n",
    "[VS, FS] = input_output.subdivide_mesh(VS, FS, order=1)\n",
    "print(FS.shape)\n",
    "FunS = np.zeros((int(np.size(VS) / 3),))\n",
    "sources = [[VS, FS]]"
   ]
  },
  {
   "cell_type": "code",
   "execution_count": 3,
   "id": "07d14867",
   "metadata": {},
   "outputs": [
    {
     "name": "stdout",
     "output_type": "stream",
     "text": [
      "(18432, 3)\n"
     ]
    }
   ],
   "source": [
    "[VT, FT, FunT] = input_output.loadData(\"TestData/genus/torus.ply\")\n",
    "VT = VT\n",
    "print(FT.shape)\n",
    "FunT = np.zeros((int(np.size(VT) / 3),))\n",
    "targets = [[VT, FT]]"
   ]
  },
  {
   "cell_type": "code",
   "execution_count": 4,
   "id": "742ff365",
   "metadata": {},
   "outputs": [],
   "source": [
    "source = sources[0]\n",
    "target = targets[0]"
   ]
  },
  {
   "cell_type": "code",
   "execution_count": 5,
   "id": "ee78dfc1",
   "metadata": {},
   "outputs": [],
   "source": [
    "param1 = {\n",
    "    \"weight_coef_dist_S\": 10**1,\n",
    "    \"weight_coef_dist_T\": 10**1,\n",
    "    \"sig_geom\": 0.5,\n",
    "    \"max_iter\": 1000,\n",
    "    \"time_steps\": 2,\n",
    "    \"tri_unsample\": True,\n",
    "    \"index\": 0,\n",
    "    \"partial\": False,\n",
    "}\n",
    "\n",
    "param2 = {\n",
    "    \"weight_coef_dist_S\": 10**2,\n",
    "    \"weight_coef_dist_T\": 10**2,\n",
    "    \"sig_geom\": 0.4,\n",
    "    \"max_iter\": 1000,\n",
    "    \"time_steps\": 2,\n",
    "    \"tri_unsample\": False,\n",
    "    \"index\": 1,\n",
    "    \"partial\": True,\n",
    "}\n",
    "\n",
    "param3 = {\n",
    "    \"weight_coef_dist_S\": 10**3,\n",
    "    \"weight_coef_dist_T\": 10**3,\n",
    "    \"sig_geom\": 0.3,\n",
    "    \"max_iter\": 200,\n",
    "    \"time_steps\": 2,\n",
    "    \"tri_unsample\": True,\n",
    "    \"index\": 1,\n",
    "    \"partial\": True,\n",
    "}\n",
    "\n",
    "param4 = {\n",
    "    \"weight_coef_dist_S\": 10**4,\n",
    "    \"weight_coef_dist_T\": 10**4,\n",
    "    \"sig_geom\": 0.2,\n",
    "    \"max_iter\": 200,\n",
    "    \"time_steps\": 3,\n",
    "    \"tri_unsample\": False,\n",
    "    \"index\": 2,\n",
    "    \"partial\": True,\n",
    "}\n",
    "\n",
    "param5 = {\n",
    "    \"weight_coef_dist_S\": 10**6,\n",
    "    \"weight_coef_dist_T\": 10**6,\n",
    "    \"sig_geom\": 0.1,\n",
    "    \"max_iter\": 2000,\n",
    "    \"time_steps\": 4,\n",
    "    \"tri_unsample\": False,\n",
    "    \"index\": 2,\n",
    "    \"partial\": True,\n",
    "    \"weight_only\": True,\n",
    "}\n",
    "a0 = 0\n",
    "a1 = 0\n",
    "b1 = 1\n",
    "c1 = 10\n",
    "d1 = 0\n",
    "a2 = 0\n",
    "paramlist = [param1, param2, param3, param4, param5]"
   ]
  },
  {
   "cell_type": "code",
   "execution_count": 6,
   "id": "2137961c",
   "metadata": {
    "scrolled": true
   },
   "outputs": [
    {
     "name": "stdout",
     "output_type": "stream",
     "text": [
      "(3360, 3)\n",
      "(840, 3)\n",
      "(210, 3)\n",
      "(210, 3)\n",
      "(840, 3)\n",
      "(840, 3)\n",
      "(3360, 3)\n",
      "(3360, 3)\n",
      "(3360, 3)\n"
     ]
    }
   ],
   "source": [
    "geod, Rho0, F0 = gm.H2MultiRes(source, target, a0, a1, b1, c1, d1, a2, 2, paramlist)"
   ]
  },
  {
   "cell_type": "code",
   "execution_count": 7,
   "id": "635896e6",
   "metadata": {},
   "outputs": [
    {
     "name": "stdout",
     "output_type": "stream",
     "text": [
      "0.0\n",
      "(4, 1682, 3)\n"
     ]
    }
   ],
   "source": [
    "print(Rho0.min())\n",
    "print(geod.shape)"
   ]
  },
  {
   "cell_type": "code",
   "execution_count": 10,
   "id": "b812cf49",
   "metadata": {},
   "outputs": [
    {
     "name": "stderr",
     "output_type": "stream",
     "text": [
      "/home/emanuel/anaconda3/envs/varidist/lib/python3.7/site-packages/ipykernel/ipkernel.py:287: DeprecationWarning: `should_run_async` will not call `transform_cell` automatically in the future. Please pass the result to `transformed_cell` argument and any exception that happen during thetransform in `preprocessing_exc_tuple` in IPython 7.17 and above.\n",
      "  and should_run_async(code)\n"
     ]
    }
   ],
   "source": [
    "input_output.plotPartialGeodesic(\n",
    "    geod,\n",
    "    F0,\n",
    "    file_name=\"results/sphere-torus\",\n",
    "    source=source,\n",
    "    target=target,\n",
    "    Rho=Rho0,\n",
    "    stepsize=4,\n",
    "    axis=[0, 0, 1],\n",
    "    angle=-1 * np.pi / 2,\n",
    ")"
   ]
  }
 ],
 "metadata": {
  "kernelspec": {
   "display_name": "Python 3",
   "language": "python",
   "name": "python3"
  },
  "language_info": {
   "codemirror_mode": {
    "name": "ipython",
    "version": 3
   },
   "file_extension": ".py",
   "mimetype": "text/x-python",
   "name": "python",
   "nbconvert_exporter": "python",
   "pygments_lexer": "ipython3",
   "version": "3.7.10"
  }
 },
 "nbformat": 4,
 "nbformat_minor": 5
}
