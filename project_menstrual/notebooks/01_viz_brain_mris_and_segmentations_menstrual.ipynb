{
 "cells": [
  {
   "cell_type": "markdown",
   "id": "e5e73af5",
   "metadata": {},
   "source": [
    "# Explore Brains During the Menstrual Cycle\n",
    "\n",
    "This notebook loads and visualizes the brain data available in the folder `/home/data/28andme`"
   ]
  },
  {
   "cell_type": "markdown",
   "id": "d0e5d433",
   "metadata": {
    "tags": []
   },
   "source": [
    "## Set-up"
   ]
  },
  {
   "cell_type": "code",
   "execution_count": null,
   "id": "62a3cd39",
   "metadata": {},
   "outputs": [],
   "source": [
    "import src.setcwd\n",
    "\n",
    "src.setcwd.main()"
   ]
  },
  {
   "cell_type": "markdown",
   "id": "349248c4",
   "metadata": {},
   "source": [
    "## Imports"
   ]
  },
  {
   "cell_type": "code",
   "execution_count": null,
   "id": "a4afe72b",
   "metadata": {},
   "outputs": [],
   "source": [
    "import os\n",
    "\n",
    "import matplotlib as mpl\n",
    "import matplotlib.pyplot as plt\n",
    "import nibabel\n",
    "import numpy as np\n",
    "from IPython.display import HTML\n",
    "from nilearn import plotting\n",
    "from PIL import Image, ImageDraw, ImageFont\n",
    "\n",
    "import src.viz as viz"
   ]
  },
  {
   "cell_type": "markdown",
   "id": "9c33f5c4",
   "metadata": {},
   "source": [
    "## Visualize Brain Images from Anatomical T1w"
   ]
  },
  {
   "cell_type": "code",
   "execution_count": null,
   "id": "a2460bc0",
   "metadata": {},
   "outputs": [],
   "source": [
    "img = nibabel.load(\"/home/data/28andme/sub-01/ses-02/anat/sub-01_ses-02_T1w.nii.gz\")\n",
    "print(img.header)"
   ]
  },
  {
   "cell_type": "code",
   "execution_count": null,
   "id": "12428ba0",
   "metadata": {},
   "outputs": [],
   "source": [
    "img_data = img.get_fdata()\n",
    "print(img_data.shape)\n",
    "\n",
    "slice_0 = img_data[26, :, :]\n",
    "slice_1 = img_data[:, 30, :]\n",
    "slice_2 = img_data[:, :, 16]\n",
    "_ = viz.show_slices([slice_0, slice_1, slice_2])"
   ]
  },
  {
   "cell_type": "code",
   "execution_count": null,
   "id": "14180d14",
   "metadata": {},
   "outputs": [],
   "source": [
    "view = plotting.view_img(img, bg_img=False)\n",
    "view"
   ]
  },
  {
   "cell_type": "markdown",
   "id": "88e8d918",
   "metadata": {
    "tags": []
   },
   "source": [
    "## Visualize Brain Images from Anatomical T2hipp"
   ]
  },
  {
   "cell_type": "code",
   "execution_count": null,
   "id": "8cb4aad9",
   "metadata": {},
   "outputs": [],
   "source": [
    "img = nibabel.load(\"/home/data/28andme/sub-01/ses-02/anat/sub-01_ses-02_T2hipp.nii.gz\")\n",
    "print(img.header)\n",
    "img_data = img.get_fdata()\n",
    "print(img_data.shape)\n",
    "\n",
    "slice_0 = img_data[26, :, :]\n",
    "slice_1 = img_data[:, 30, :]\n",
    "slice_2 = img_data[:, :, 16]\n",
    "_ = viz.show_slices([slice_0, slice_1, slice_2])"
   ]
  },
  {
   "cell_type": "code",
   "execution_count": null,
   "id": "d94c954c",
   "metadata": {},
   "outputs": [],
   "source": [
    "view = plotting.view_img(img, bg_img=False)\n",
    "view"
   ]
  },
  {
   "cell_type": "markdown",
   "id": "f9877ce5",
   "metadata": {},
   "source": [
    "## Visualize Images from the Segmentation ASHS left_lfseg_corr"
   ]
  },
  {
   "cell_type": "code",
   "execution_count": null,
   "id": "3142da99",
   "metadata": {},
   "outputs": [],
   "source": [
    "img = nibabel.load(\n",
    "    \"/home/data/28andme/sub-01/ses-02/ashs/left_lfseg_corr_usegray_CT_LQ.nii.gz\"\n",
    ")\n",
    "img_data = img.get_fdata()\n",
    "print(len(np.unique(img_data.flatten())))\n",
    "# Set value 0 to \"bad data\"\n",
    "img_data = np.ma.masked_where(img_data < 0.05, img_data)\n",
    "print(img_data.shape)\n",
    "\n",
    "cmap = mpl.cm.get_cmap(\"tab20b\").copy()\n",
    "cmaplist = [cmap(2 * i) for i in range(10)]\n",
    "cmap = mpl.colors.LinearSegmentedColormap.from_list(\"Custom cmap\", cmaplist, 10)\n",
    "cmap.set_bad(color=\"black\")\n",
    "\n",
    "fig, axes = plt.subplots(nrows=1, ncols=2)\n",
    "im = axes[0].imshow(img_data[120:200, 120:200, 16], cmap=cmap)\n",
    "fig.colorbar(im, cax=axes[-1]);"
   ]
  },
  {
   "cell_type": "markdown",
   "id": "69e5290c",
   "metadata": {},
   "source": [
    "### Inspect Segmentation: 9 classes"
   ]
  },
  {
   "cell_type": "code",
   "execution_count": null,
   "id": "2a3a3ea9",
   "metadata": {},
   "outputs": [],
   "source": [
    "img_vec = img_data.flatten()\n",
    "img_mask = img_vec[img_vec != 0.0]\n",
    "plt.hist(img_mask)"
   ]
  },
  {
   "cell_type": "code",
   "execution_count": null,
   "id": "272bfc99",
   "metadata": {},
   "outputs": [],
   "source": [
    "view = plotting.view_img(img, bg_img=False, cmap=cmap)\n",
    "view"
   ]
  },
  {
   "cell_type": "markdown",
   "id": "e5818aaa",
   "metadata": {},
   "source": [
    "## Visualize Images from the Segmentation ASHS right_lfseg_corr"
   ]
  },
  {
   "cell_type": "code",
   "execution_count": null,
   "id": "6a4495e7",
   "metadata": {},
   "outputs": [],
   "source": [
    "img = nibabel.load(\n",
    "    \"/home/data/28andme/sub-01/ses-02/ashs/right_lfseg_corr_usegray_CT_LQ.nii.gz\"\n",
    ")\n",
    "img_data = img.get_fdata()\n",
    "print(img.header)\n",
    "print(img_data.shape)\n",
    "\n",
    "slice_0 = img_data[26, :, :]\n",
    "slice_1 = img_data[:, 30, :]\n",
    "slice_2 = img_data[220:320, 120:220, 16]\n",
    "_ = viz.show_slices([slice_0, slice_1, slice_2])"
   ]
  },
  {
   "cell_type": "code",
   "execution_count": null,
   "id": "3b6ed442",
   "metadata": {},
   "outputs": [],
   "source": [
    "view = plotting.view_img(img, bg_img=False, cmap=cmap)\n",
    "view"
   ]
  },
  {
   "cell_type": "markdown",
   "id": "2a53db0b",
   "metadata": {},
   "source": [
    "## Play Video of 2D Slice from a Time-Series of 3D Images"
   ]
  },
  {
   "cell_type": "markdown",
   "id": "9c983866",
   "metadata": {},
   "source": [
    "Choose which video to play, among:\n",
    "- anat/sub-01_ses-**_T1w.nii.gz\n",
    "- anat/sub-01_ses-**_T2hipp.nii.gz\n",
    "- ashs/left_lfseg_corr_usegray_CT_LQ.nii.gz\n",
    "- ashs/right_lfseg_corr_usegray_CT_LQ.nii.gz"
   ]
  },
  {
   "cell_type": "code",
   "execution_count": null,
   "id": "f3d3fc66",
   "metadata": {},
   "outputs": [],
   "source": [
    "anima = viz.animate(\"ashs/left_lfseg_corr_usegray_CT_LQ.nii.gz\", img_dir=\"/home/data/28andme/\", slice_z=16)\n",
    "HTML(anima.to_html5_video())"
   ]
  },
  {
   "cell_type": "code",
   "execution_count": null,
   "id": "1e6c22c6",
   "metadata": {},
   "outputs": [],
   "source": [
    "anima = viz.animate(\"ashs/right_lfseg_corr_usegray_CT_LQ.nii.gz\", slice_z=16)\n",
    "HTML(anima.to_html5_video())"
   ]
  },
  {
   "cell_type": "markdown",
   "id": "48f2cc5c-2a15-402e-8b77-f85616703bf8",
   "metadata": {},
   "source": [
    "# Make video of Laura's brain for presentation"
   ]
  },
  {
   "cell_type": "markdown",
   "id": "03332ccc-53fd-467e-ac57-7459e9e6d99d",
   "metadata": {},
   "source": [
    "Creating paths to brain data, one path for each day, contained in nii_paths.\n",
    "\n",
    "Note that you need to choose which data_dir to use and only use half of the code in the below cell."
   ]
  },
  {
   "cell_type": "code",
   "execution_count": null,
   "id": "a0564f79",
   "metadata": {},
   "outputs": [],
   "source": [
    "# Choose either this data_dir\n",
    "data_dir = \"/home/data/28andme/sub-01\"\n",
    "nii_paths = []\n",
    "for day in range(2, 31):\n",
    "    nii_paths.append(f\"{data_dir}/ses-{day:02}/anat/sub-01_ses-{day:02}_T1w.nii.gz\")\n",
    "print(nii_paths)\n",
    "\n",
    "print(\"\\n\")\n",
    "# Or choose this data_dir\n",
    "# data_dir = \"/home/data/28andMeOC_correct\"\n",
    "# hemisphere = \"left\"\n",
    "# day_dirs = [os.path.join(data_dir, f\"Day{i:02d}\") for i in range(1, 61)]\n",
    "\n",
    "# print(f\"Looking into: {day_dirs}\")\n",
    "# nii_paths = []\n",
    "# for i_day, day_dir in enumerate(day_dirs):\n",
    "#     for file_name in os.listdir(day_dir):\n",
    "#         if file_name.startswith(hemisphere) and file_name.endswith(\".nii.gz\"):\n",
    "#             nii_paths.append(os.path.join(day_dir, file_name))\n",
    "#             break\n",
    "# print(nii_paths)"
   ]
  },
  {
   "cell_type": "code",
   "execution_count": null,
   "id": "cd663d42-037b-495a-80ee-0ab45a44de09",
   "metadata": {},
   "outputs": [],
   "source": [
    "# Set the directory to save the converted images\n",
    "anim_dir = os.path.join(os.getcwd(), \"my28brains/results/anims\")\n",
    "tmp_dir = os.path.join(os.getcwd(), \"my28brains/results/tmp\")\n",
    "\n",
    "print(f\"Will save the animation in {anim_dir} and the temporary images in {tmp_dir}.\")"
   ]
  },
  {
   "cell_type": "code",
   "execution_count": null,
   "id": "e19e272b-024a-49ff-baa1-5d43b11eed47",
   "metadata": {},
   "outputs": [],
   "source": [
    "for i_path, path in enumerate(nii_paths):\n",
    "    img = nibabel.load(path).get_fdata()\n",
    "    img = (img / img.max() * 255).astype(\"uint8\")  # Normalize pixel values\n",
    "    image_path = os.path.join(tmp_dir, f\"mri_day_{i_path:03}.png\")\n",
    "    # brain shifts, need to take different slices for later days.\n",
    "    if i_path < 7 and i_path != 5:\n",
    "        Image.fromarray(img[:, 50, :]).save(image_path)\n",
    "    else:\n",
    "        Image.fromarray(img[:, 50, :]).save(image_path)"
   ]
  },
  {
   "cell_type": "code",
   "execution_count": null,
   "id": "7dedd9c0-6699-44c6-9751-cd6e93329a70",
   "metadata": {},
   "outputs": [],
   "source": [
    "output_file = os.path.join(anim_dir, \"mris.mp4\")\n",
    "frame_rate = 3\n",
    "\n",
    "# Use ffmpeg to create the movie from the images\n",
    "os.system(\n",
    "    f\"ffmpeg -framerate {frame_rate} -pattern_type glob -i '{tmp_dir}/mri_day_*.png' -c:v libx264 -pix_fmt yuv420p {output_file}\"\n",
    ")"
   ]
  },
  {
   "cell_type": "code",
   "execution_count": null,
   "id": "5dd85129-1976-4a1d-992c-367864935457",
   "metadata": {},
   "outputs": [],
   "source": [
    "font_size = 50\n",
    "\n",
    "# Set the font style\n",
    "font = ImageFont.truetype(\n",
    "    os.path.join(anim_dir, \"DejaVuSerif.ttf\"),\n",
    "    font_size,\n",
    ")\n",
    "\n",
    "\n",
    "for day in range(2, 31):\n",
    "    # Set the text to display\n",
    "    text = f\"Day {day:02}\"\n",
    "\n",
    "    # Get the width and height of the text\n",
    "    text_width, text_height = font.getsize(text)\n",
    "\n",
    "    # Create a new image with a white background\n",
    "    image = Image.new(\"RGB\", (text_width, text_height), color=(255, 255, 255))\n",
    "\n",
    "    # Add the text to the image\n",
    "    draw = ImageDraw.Draw(image)\n",
    "    draw.text((0, 0), text, fill=(0, 0, 0), font=font)\n",
    "\n",
    "    # Save the image as a .png file\n",
    "    path = os.path.join(tmp_dir, f\"Day_{day:02}.png\")\n",
    "    image.save(path, \"PNG\")"
   ]
  },
  {
   "cell_type": "code",
   "execution_count": null,
   "id": "3acc2ef8-5ca1-48dd-a065-4247590a0f09",
   "metadata": {},
   "outputs": [],
   "source": [
    "# Set the output file name and path\n",
    "output_file = os.path.join(anim_dir, \"mris_days.mp4\")\n",
    "frame_rate = 3\n",
    "\n",
    "# Use ffmpeg to create the movie from the images\n",
    "os.system(\n",
    "    f\"ffmpeg -framerate {frame_rate} -pattern_type glob -i '{tmp_dir}/Day_*.png' -c:v libx264 -pix_fmt yuv420p {output_file}\"\n",
    ")"
   ]
  },
  {
   "cell_type": "code",
   "execution_count": null,
   "id": "31bbdfeb-9e98-4f4a-a549-3168cdada9cd",
   "metadata": {},
   "outputs": [],
   "source": []
  }
 ],
 "metadata": {
  "kernelspec": {
   "display_name": "Python 3 (ipykernel)",
   "language": "python",
   "name": "python3"
  },
  "language_info": {
   "codemirror_mode": {
    "name": "ipython",
    "version": 3
   },
   "file_extension": ".py",
   "mimetype": "text/x-python",
   "name": "python",
   "nbconvert_exporter": "python",
   "pygments_lexer": "ipython3",
   "version": "3.10.12"
  }
 },
 "nbformat": 4,
 "nbformat_minor": 5
}
